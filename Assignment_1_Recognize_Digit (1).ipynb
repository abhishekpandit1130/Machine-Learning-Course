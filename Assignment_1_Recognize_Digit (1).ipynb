{
  "nbformat": 4,
  "nbformat_minor": 0,
  "metadata": {
    "colab": {
      "provenance": []
    },
    "kernelspec": {
      "name": "python3",
      "display_name": "Python 3"
    },
    "language_info": {
      "name": "python"
    }
  },
  "cells": [
    {
      "cell_type": "markdown",
      "source": [
        "# Assignment 1 — Recognize a Digit (MNIST) using TensorFlow / Keras\n",
        "This notebook trains a small CNN on the MNIST dataset and explains each line of code.\n",
        "\n"
      ],
      "metadata": {
        "id": "7eZ3XztFL4DX"
      }
    },
    {
      "cell_type": "code",
      "execution_count": 1,
      "metadata": {
        "id": "Z0zCbYdDLrZA"
      },
      "outputs": [],
      "source": [
        "import numpy as np\n",
        "import matplotlib.pyplot as plt\n",
        "import tensorflow as tf\n",
        "from tensorflow import keras\n",
        "from tensorflow.keras import layers, models\n"
      ]
    },
    {
      "cell_type": "markdown",
      "source": [
        "import numpy as np — imports NumPy (fast numerical arrays) and aliases it np.\n",
        "\n",
        "import matplotlib.pyplot as plt — imports plotting functions so we can plot sample images and training curves.\n",
        "\n",
        "import tensorflow as tf — imports TensorFlow (the main library we will use).\n",
        "\n",
        "from tensorflow import keras — imports Keras API that comes with TensorFlow for building models easily.\n",
        "\n",
        "from tensorflow.keras import layers, models — imports commonly used Keras modules: layers (to create layers) and models (to create Sequential/Model objects)."
      ],
      "metadata": {
        "id": "liZiptsfMJY-"
      }
    },
    {
      "cell_type": "code",
      "source": [
        "(x_train, y_train), (x_test, y_test) = keras.datasets.mnist.load_data()\n",
        "print(\"Train shape:\", x_train.shape, \"Test shape:\", x_test.shape)\n"
      ],
      "metadata": {
        "colab": {
          "base_uri": "https://localhost:8080/"
        },
        "id": "tBLsA3fdMR5m",
        "outputId": "9b2cc0cc-71c1-43a1-b8dc-ca0bc1a36896"
      },
      "execution_count": 2,
      "outputs": [
        {
          "output_type": "stream",
          "name": "stdout",
          "text": [
            "Downloading data from https://storage.googleapis.com/tensorflow/tf-keras-datasets/mnist.npz\n",
            "\u001b[1m11490434/11490434\u001b[0m \u001b[32m━━━━━━━━━━━━━━━━━━━━\u001b[0m\u001b[37m\u001b[0m \u001b[1m0s\u001b[0m 0us/step\n",
            "Train shape: (60000, 28, 28) Test shape: (10000, 28, 28)\n"
          ]
        }
      ]
    },
    {
      "cell_type": "markdown",
      "source": [
        "keras.datasets.mnist.load_data() — downloads (or loads cached) MNIST dataset of 28x28 grayscale images and labels.\n",
        "\n",
        "The function returns (x_train, y_train), (x_test, y_test) which we unpack.\n",
        "\n",
        "print(...) — shows shapes so you can verify: x_train should be (60000, 28, 28) and x_test (10000, 28, 28).\n"
      ],
      "metadata": {
        "id": "Q3ZkX2KYNCul"
      }
    },
    {
      "cell_type": "code",
      "source": [
        "# reshape images to add channel dimension and scale to [0,1]\n",
        "x_train = x_train.reshape(-1, 28, 28, 1).astype('float32') / 255.0\n",
        "x_test  = x_test.reshape(-1, 28, 28, 1).astype('float32') / 255.0\n",
        "\n",
        "# convert labels to one-hot vectors (10 classes)\n",
        "num_classes = 10\n",
        "y_train = keras.utils.to_categorical(y_train, num_classes)\n",
        "y_test  = keras.utils.to_categorical(y_test, num_classes)\n"
      ],
      "metadata": {
        "id": "mAwZErGMNILM"
      },
      "execution_count": 3,
      "outputs": []
    },
    {
      "cell_type": "markdown",
      "source": [
        "reshape(-1, 28, 28, 1) — adds a channel dimension (TensorFlow expects shape (batch, height, width, channels)). -1 lets NumPy compute the batch size.\n",
        "\n",
        ".astype('float32') — ensures numeric type is float32 (GPU-friendly).\n",
        "\n",
        "/ 255.0 — normalizes pixel values from [0,255] to [0,1] which helps training stability.\n",
        "\n",
        "num_classes = 10 — number of digit categories (0–9).\n",
        "\n",
        "to_categorical(...) — converts integer labels (e.g., 7) into one-hot vectors of length 10 (e.g., [0,0,0,0,0,0,0,1,0,0]).\n",
        "\n"
      ],
      "metadata": {
        "id": "7N9QiM8LNVU2"
      }
    },
    {
      "cell_type": "code",
      "source": [
        "plt.figure(figsize=(8,2))\n",
        "for i in range(8):\n",
        "    plt.subplot(1,8,i+1)\n",
        "    plt.imshow(x_train[i].reshape(28,28), cmap='gray')\n",
        "    plt.axis('off')\n",
        "plt.show()\n"
      ],
      "metadata": {
        "colab": {
          "base_uri": "https://localhost:8080/",
          "height": 102
        },
        "id": "cLq9g32eNXEL",
        "outputId": "48d6bea8-2a7f-4a54-fd2b-37722f71c56b"
      },
      "execution_count": 4,
      "outputs": [
        {
          "output_type": "display_data",
          "data": {
            "text/plain": [
              "<Figure size 800x200 with 8 Axes>"
            ],
            "image/png": "[encoded data removed]"
          },
          "metadata": {}
        }
      ]
    },
    {
      "cell_type": "markdown",
      "source": [
        "plt.figure(figsize=(8,2)) — creates a plotting canvas of given size.\n",
        "\n",
        "for i in range(8): — loop to show first 8 images.\n",
        "\n",
        "plt.subplot(1,8,i+1) — arrange subplots in 1 row, 8 columns.\n",
        "\n",
        "plt.imshow(...) — display the image; reshape(28,28) removes the channel for plotting.\n",
        "\n",
        "plt.axis('off') — hide axes for clarity.\n",
        "\n",
        "plt.show() — render the figure."
      ],
      "metadata": {
        "id": "UC0E04vQNnFX"
      }
    },
    {
      "cell_type": "code",
      "source": [
        "model = models.Sequential([\n",
        "    layers.Conv2D(32, (3,3), activation='relu', input_shape=(28,28,1)),\n",
        "    layers.MaxPooling2D((2,2)),\n",
        "    layers.Conv2D(64, (3,3), activation='relu'),\n",
        "    layers.MaxPooling2D((2,2)),\n",
        "    layers.Flatten(),\n",
        "    layers.Dense(128, activation='relu'),\n",
        "    layers.Dropout(0.5),\n",
        "    layers.Dense(num_classes, activation='softmax')\n",
        "])\n",
        "model.summary()\n"
      ],
      "metadata": {
        "id": "KLLEXbGqNoA_",
        "outputId": "a13af094-c5ed-44ed-ca13-75912de67dd0",
        "colab": {
          "base_uri": "https://localhost:8080/",
          "height": 441
        }
      },
      "execution_count": 5,
      "outputs": [
        {
          "output_type": "stream",
          "name": "stderr",
          "text": [
            "/usr/local/lib/python3.11/dist-packages/keras/src/layers/convolutional/base_conv.py:113: UserWarning: Do not pass an `input_shape`/`input_dim` argument to a layer. When using Sequential models, prefer using an `Input(shape)` object as the first layer in the model instead.\n",
            "  super().__init__(activity_regularizer=activity_regularizer, **kwargs)\n"
          ]
        },
        {
          "output_type": "display_data",
          "data": {
            "text/plain": [
              "\u001b[1mModel: \"sequential\"\u001b[0m\n"
            ],
            "text/html": [
              "<pre style=\"white-space:pre;overflow-x:auto;line-height:normal;font-family:Menlo,'DejaVu Sans Mono',consolas,'Courier New',monospace\"><span style=\"font-weight: bold\">Model: \"sequential\"</span>\n",
              "</pre>\n"
            ]
          },
          "metadata": {}
        },
        {
          "output_type": "display_data",
          "data": {
            "text/plain": [
              "┏━━━━━━━━━━━━━━━━━━━━━━━━━━━━━━━━━┳━━━━━━━━━━━━━━━━━━━━━━━━┳━━━━━━━━━━━━━━━┓\n",
              "┃\u001b[1m \u001b[0m\u001b[1mLayer (type)                   \u001b[0m\u001b[1m \u001b[0m┃\u001b[1m \u001b[0m\u001b[1mOutput Shape          \u001b[0m\u001b[1m \u001b[0m┃\u001b[1m \u001b[0m\u001b[1m      Param #\u001b[0m\u001b[1m \u001b[0m┃\n",
              "┡━━━━━━━━━━━━━━━━━━━━━━━━━━━━━━━━━╇━━━━━━━━━━━━━━━━━━━━━━━━╇━━━━━━━━━━━━━━━┩\n",
              "│ conv2d (\u001b[38;5;33mConv2D\u001b[0m)                 │ (\u001b[38;5;45mNone\u001b[0m, \u001b[38;5;34m26\u001b[0m, \u001b[38;5;34m26\u001b[0m, \u001b[38;5;34m32\u001b[0m)     │           \u001b[38;5;34m320\u001b[0m │\n",
              "├─────────────────────────────────┼────────────────────────┼───────────────┤\n",
              "│ max_pooling2d (\u001b[38;5;33mMaxPooling2D\u001b[0m)    │ (\u001b[38;5;45mNone\u001b[0m, \u001b[38;5;34m13\u001b[0m, \u001b[38;5;34m13\u001b[0m, \u001b[38;5;34m32\u001b[0m)     │             \u001b[38;5;34m0\u001b[0m │\n",
              "├─────────────────────────────────┼────────────────────────┼───────────────┤\n",
              "│ conv2d_1 (\u001b[38;5;33mConv2D\u001b[0m)               │ (\u001b[38;5;45mNone\u001b[0m, \u001b[38;5;34m11\u001b[0m, \u001b[38;5;34m11\u001b[0m, \u001b[38;5;34m64\u001b[0m)     │        \u001b[38;5;34m18,496\u001b[0m │\n",
              "├─────────────────────────────────┼────────────────────────┼───────────────┤\n",
              "│ max_pooling2d_1 (\u001b[38;5;33mMaxPooling2D\u001b[0m)  │ (\u001b[38;5;45mNone\u001b[0m, \u001b[38;5;34m5\u001b[0m, \u001b[38;5;34m5\u001b[0m, \u001b[38;5;34m64\u001b[0m)       │             \u001b[38;5;34m0\u001b[0m │\n",
              "├─────────────────────────────────┼────────────────────────┼───────────────┤\n",
              "│ flatten (\u001b[38;5;33mFlatten\u001b[0m)               │ (\u001b[38;5;45mNone\u001b[0m, \u001b[38;5;34m1600\u001b[0m)           │             \u001b[38;5;34m0\u001b[0m │\n",
              "├─────────────────────────────────┼────────────────────────┼───────────────┤\n",
              "│ dense (\u001b[38;5;33mDense\u001b[0m)                   │ (\u001b[38;5;45mNone\u001b[0m, \u001b[38;5;34m128\u001b[0m)            │       \u001b[38;5;34m204,928\u001b[0m │\n",
              "├─────────────────────────────────┼────────────────────────┼───────────────┤\n",
              "│ dropout (\u001b[38;5;33mDropout\u001b[0m)               │ (\u001b[38;5;45mNone\u001b[0m, \u001b[38;5;34m128\u001b[0m)            │             \u001b[38;5;34m0\u001b[0m │\n",
              "├─────────────────────────────────┼────────────────────────┼───────────────┤\n",
              "│ dense_1 (\u001b[38;5;33mDense\u001b[0m)                 │ (\u001b[38;5;45mNone\u001b[0m, \u001b[38;5;34m10\u001b[0m)             │         \u001b[38;5;34m1,290\u001b[0m │\n",
              "└─────────────────────────────────┴────────────────────────┴───────────────┘\n"
            ],
            "text/html": [
              "<pre style=\"white-space:pre;overflow-x:auto;line-height:normal;font-family:Menlo,'DejaVu Sans Mono',consolas,'Courier New',monospace\">┏━━━━━━━━━━━━━━━━━━━━━━━━━━━━━━━━━┳━━━━━━━━━━━━━━━━━━━━━━━━┳━━━━━━━━━━━━━━━┓\n",
              "┃<span style=\"font-weight: bold\"> Layer (type)                    </span>┃<span style=\"font-weight: bold\"> Output Shape           </span>┃<span style=\"font-weight: bold\">       Param # </span>┃\n",
              "┡━━━━━━━━━━━━━━━━━━━━━━━━━━━━━━━━━╇━━━━━━━━━━━━━━━━━━━━━━━━╇━━━━━━━━━━━━━━━┩\n",
              "│ conv2d (<span style=\"color: #0087ff; text-decoration-color: #0087ff\">Conv2D</span>)                 │ (<span style=\"color: #00d7ff; text-decoration-color: #00d7ff\">None</span>, <span style=\"color: #00af00; text-decoration-color: #00af00\">26</span>, <span style=\"color: #00af00; text-decoration-color: #00af00\">26</span>, <span style=\"color: #00af00; text-decoration-color: #00af00\">32</span>)     │           <span style=\"color: #00af00; text-decoration-color: #00af00\">320</span> │\n",
              "├─────────────────────────────────┼────────────────────────┼───────────────┤\n",
              "│ max_pooling2d (<span style=\"color: #0087ff; text-decoration-color: #0087ff\">MaxPooling2D</span>)    │ (<span style=\"color: #00d7ff; text-decoration-color: #00d7ff\">None</span>, <span style=\"color: #00af00; text-decoration-color: #00af00\">13</span>, <span style=\"color: #00af00; text-decoration-color: #00af00\">13</span>, <span style=\"color: #00af00; text-decoration-color: #00af00\">32</span>)     │             <span style=\"color: #00af00; text-decoration-color: #00af00\">0</span> │\n",
              "├─────────────────────────────────┼────────────────────────┼───────────────┤\n",
              "│ conv2d_1 (<span style=\"color: #0087ff; text-decoration-color: #0087ff\">Conv2D</span>)               │ (<span style=\"color: #00d7ff; text-decoration-color: #00d7ff\">None</span>, <span style=\"color: #00af00; text-decoration-color: #00af00\">11</span>, <span style=\"color: #00af00; text-decoration-color: #00af00\">11</span>, <span style=\"color: #00af00; text-decoration-color: #00af00\">64</span>)     │        <span style=\"color: #00af00; text-decoration-color: #00af00\">18,496</span> │\n",
              "├─────────────────────────────────┼────────────────────────┼───────────────┤\n",
              "│ max_pooling2d_1 (<span style=\"color: #0087ff; text-decoration-color: #0087ff\">MaxPooling2D</span>)  │ (<span style=\"color: #00d7ff; text-decoration-color: #00d7ff\">None</span>, <span style=\"color: #00af00; text-decoration-color: #00af00\">5</span>, <span style=\"color: #00af00; text-decoration-color: #00af00\">5</span>, <span style=\"color: #00af00; text-decoration-color: #00af00\">64</span>)       │             <span style=\"color: #00af00; text-decoration-color: #00af00\">0</span> │\n",
              "├─────────────────────────────────┼────────────────────────┼───────────────┤\n",
              "│ flatten (<span style=\"color: #0087ff; text-decoration-color: #0087ff\">Flatten</span>)               │ (<span style=\"color: #00d7ff; text-decoration-color: #00d7ff\">None</span>, <span style=\"color: #00af00; text-decoration-color: #00af00\">1600</span>)           │             <span style=\"color: #00af00; text-decoration-color: #00af00\">0</span> │\n",
              "├─────────────────────────────────┼────────────────────────┼───────────────┤\n",
              "│ dense (<span style=\"color: #0087ff; text-decoration-color: #0087ff\">Dense</span>)                   │ (<span style=\"color: #00d7ff; text-decoration-color: #00d7ff\">None</span>, <span style=\"color: #00af00; text-decoration-color: #00af00\">128</span>)            │       <span style=\"color: #00af00; text-decoration-color: #00af00\">204,928</span> │\n",
              "├─────────────────────────────────┼────────────────────────┼───────────────┤\n",
              "│ dropout (<span style=\"color: #0087ff; text-decoration-color: #0087ff\">Dropout</span>)               │ (<span style=\"color: #00d7ff; text-decoration-color: #00d7ff\">None</span>, <span style=\"color: #00af00; text-decoration-color: #00af00\">128</span>)            │             <span style=\"color: #00af00; text-decoration-color: #00af00\">0</span> │\n",
              "├─────────────────────────────────┼────────────────────────┼───────────────┤\n",
              "│ dense_1 (<span style=\"color: #0087ff; text-decoration-color: #0087ff\">Dense</span>)                 │ (<span style=\"color: #00d7ff; text-decoration-color: #00d7ff\">None</span>, <span style=\"color: #00af00; text-decoration-color: #00af00\">10</span>)             │         <span style=\"color: #00af00; text-decoration-color: #00af00\">1,290</span> │\n",
              "└─────────────────────────────────┴────────────────────────┴───────────────┘\n",
              "</pre>\n"
            ]
          },
          "metadata": {}
        },
        {
          "output_type": "display_data",
          "data": {
            "text/plain": [
              "\u001b[1m Total params: \u001b[0m\u001b[38;5;34m225,034\u001b[0m (879.04 KB)\n"
            ],
            "text/html": [
              "<pre style=\"white-space:pre;overflow-x:auto;line-height:normal;font-family:Menlo,'DejaVu Sans Mono',consolas,'Courier New',monospace\"><span style=\"font-weight: bold\"> Total params: </span><span style=\"color: #00af00; text-decoration-color: #00af00\">225,034</span> (879.04 KB)\n",
              "</pre>\n"
            ]
          },
          "metadata": {}
        },
        {
          "output_type": "display_data",
          "data": {
            "text/plain": [
              "\u001b[1m Trainable params: \u001b[0m\u001b[38;5;34m225,034\u001b[0m (879.04 KB)\n"
            ],
            "text/html": [
              "<pre style=\"white-space:pre;overflow-x:auto;line-height:normal;font-family:Menlo,'DejaVu Sans Mono',consolas,'Courier New',monospace\"><span style=\"font-weight: bold\"> Trainable params: </span><span style=\"color: #00af00; text-decoration-color: #00af00\">225,034</span> (879.04 KB)\n",
              "</pre>\n"
            ]
          },
          "metadata": {}
        },
        {
          "output_type": "display_data",
          "data": {
            "text/plain": [
              "\u001b[1m Non-trainable params: \u001b[0m\u001b[38;5;34m0\u001b[0m (0.00 B)\n"
            ],
            "text/html": [
              "<pre style=\"white-space:pre;overflow-x:auto;line-height:normal;font-family:Menlo,'DejaVu Sans Mono',consolas,'Courier New',monospace\"><span style=\"font-weight: bold\"> Non-trainable params: </span><span style=\"color: #00af00; text-decoration-color: #00af00\">0</span> (0.00 B)\n",
              "</pre>\n"
            ]
          },
          "metadata": {}
        }
      ]
    },
    {
      "cell_type": "markdown",
      "source": [
        "models.Sequential([...]) — builds a simple stack of layers (Sequential model).\n",
        "\n",
        "Conv2D(32, (3,3), activation='relu', input_shape=(28,28,1)) — first convolutional layer with 32 filters, kernel size 3×3, ReLU activation. input_shape is required for the first layer.\n",
        "\n",
        "MaxPooling2D((2,2)) — reduces spatial dimensions by half (downsampling).\n",
        "\n",
        "Conv2D(64, (3,3), activation='relu') — second convolutional layer with 64 filters.\n",
        "\n",
        "MaxPooling2D((2,2)) — another pooling layer.\n",
        "\n",
        "Flatten() — flattens 2D feature maps into 1D vector for the dense layers.\n",
        "\n",
        "Dense(128, activation='relu') — fully connected layer with 128 neurons.\n",
        "\n",
        "Dropout(0.5) — randomly drops 50% of units during training to reduce overfitting.\n",
        "\n",
        "Dense(num_classes, activation='softmax') — output layer giving probabilities across 10 classes.\n",
        "\n",
        "model.summary() — print model architecture and parameter counts so you can inspect structure."
      ],
      "metadata": {
        "id": "1945hCIvNttC"
      }
    },
    {
      "cell_type": "code",
      "source": [
        "model.compile(optimizer='adam',\n",
        "              loss='categorical_crossentropy',\n",
        "              metrics=['accuracy'])\n"
      ],
      "metadata": {
        "id": "kmvPEkE8Nzxh"
      },
      "execution_count": 6,
      "outputs": []
    },
    {
      "cell_type": "markdown",
      "source": [
        "optimizer='adam' — Adam optimizer (adaptive gradient method) — good default.\n",
        "\n",
        "loss='categorical_crossentropy' — appropriate loss when labels are one-hot vectors.\n",
        "\n",
        "metrics=['accuracy'] — track classification accuracy during training and validation.\n",
        "\n"
      ],
      "metadata": {
        "id": "hCf9w9b3N4bx"
      }
    },
    {
      "cell_type": "code",
      "source": [
        "history = model.fit(x_train, y_train,\n",
        "                    epochs=8,\n",
        "                    batch_size=128,\n",
        "                    validation_split=0.1,\n",
        "                    verbose=2)\n"
      ],
      "metadata": {
        "id": "NE7SqGKHN8dR",
        "outputId": "bd93d940-3170-4a2e-b486-76e7c127747f",
        "colab": {
          "base_uri": "https://localhost:8080/"
        }
      },
      "execution_count": 7,
      "outputs": [
        {
          "output_type": "stream",
          "name": "stdout",
          "text": [
            "Epoch 1/8\n",
            "422/422 - 43s - 102ms/step - accuracy: 0.9034 - loss: 0.3178 - val_accuracy: 0.9793 - val_loss: 0.0666\n",
            "Epoch 2/8\n",
            "422/422 - 80s - 188ms/step - accuracy: 0.9702 - loss: 0.1010 - val_accuracy: 0.9865 - val_loss: 0.0444\n",
            "Epoch 3/8\n",
            "422/422 - 41s - 98ms/step - accuracy: 0.9789 - loss: 0.0737 - val_accuracy: 0.9887 - val_loss: 0.0384\n",
            "Epoch 4/8\n",
            "422/422 - 42s - 99ms/step - accuracy: 0.9817 - loss: 0.0611 - val_accuracy: 0.9877 - val_loss: 0.0436\n",
            "Epoch 5/8\n",
            "422/422 - 39s - 93ms/step - accuracy: 0.9834 - loss: 0.0534 - val_accuracy: 0.9897 - val_loss: 0.0369\n",
            "Epoch 6/8\n",
            "422/422 - 39s - 92ms/step - accuracy: 0.9867 - loss: 0.0432 - val_accuracy: 0.9915 - val_loss: 0.0311\n",
            "Epoch 7/8\n",
            "422/422 - 41s - 97ms/step - accuracy: 0.9880 - loss: 0.0395 - val_accuracy: 0.9910 - val_loss: 0.0334\n",
            "Epoch 8/8\n",
            "422/422 - 42s - 101ms/step - accuracy: 0.9890 - loss: 0.0354 - val_accuracy: 0.9908 - val_loss: 0.0331\n"
          ]
        }
      ]
    },
    {
      "cell_type": "markdown",
      "source": [
        "model.fit(...) — starts training.\n",
        "\n",
        "x_train, y_train — training data and labels.\n",
        "\n",
        "epochs=8 — number of full passes over training data (you can increase to 12–15 if your machine allows).\n",
        "\n",
        "batch_size=128 — number of samples per gradient update.\n",
        "\n",
        "validation_split=0.1 — hold out 10% of training data for validation to monitor generalization.\n",
        "\n",
        "verbose=2 — sets printing mode for training progress.\n",
        "\n",
        "history — stores loss/accuracy per epoch so we can plot later."
      ],
      "metadata": {
        "id": "kUZQ87VAPd0T"
      }
    },
    {
      "cell_type": "code",
      "source": [
        "plt.figure(figsize=(10,4))\n",
        "plt.subplot(1,2,1)\n",
        "plt.plot(history.history['loss'])\n",
        "plt.plot(history.history['val_loss'])\n",
        "plt.title('Loss')\n",
        "plt.legend(['train','val'])\n",
        "plt.subplot(1,2,2)\n",
        "plt.plot(history.history['accuracy'])\n",
        "plt.plot(history.history['val_accuracy'])\n",
        "plt.title('Accuracy')\n",
        "plt.legend(['train','val'])\n",
        "plt.show()\n"
      ],
      "metadata": {
        "id": "aEi4cyBgPewd",
        "outputId": "cdccba96-4484-4742-ce5b-07307977bab3",
        "colab": {
          "base_uri": "https://localhost:8080/",
          "height": 391
        }
      },
      "execution_count": 8,
      "outputs": [
        {
          "output_type": "display_data",
          "data": {
            "text/plain": [
              "<Figure size 1000x400 with 2 Axes>"
            ],
            "image/png": "[encoded data removed]"
          },
          "metadata": {}
        }
      ]
    },
    {
      "cell_type": "markdown",
      "source": [
        "history.history — dictionary with lists for 'loss', 'val_loss', 'accuracy', 'val_accuracy'.\n",
        "\n",
        "Plotting code draws training vs validation curves for quick inspection of overfitting/underfitting.\n",
        "\n"
      ],
      "metadata": {
        "id": "o6zlZktAPkDd"
      }
    },
    {
      "cell_type": "code",
      "source": [
        "test_loss, test_acc = model.evaluate(x_test, y_test, verbose=2)\n",
        "print(\"Test accuracy:\", test_acc)\n"
      ],
      "metadata": {
        "id": "TDGfit8dPnSf",
        "outputId": "7cc2261d-7091-483e-ba2e-f10fdacf0a91",
        "colab": {
          "base_uri": "https://localhost:8080/"
        }
      },
      "execution_count": 9,
      "outputs": [
        {
          "output_type": "stream",
          "name": "stdout",
          "text": [
            "313/313 - 3s - 10ms/step - accuracy: 0.9921 - loss: 0.0235\n",
            "Test accuracy: 0.9921000003814697\n"
          ]
        }
      ]
    },
    {
      "cell_type": "markdown",
      "source": [
        "model.evaluate(...) — computes loss and metrics on the test dataset that the model has never seen.\n",
        "\n",
        "Returns test_loss and test_acc (since we asked for 'accuracy' metric).\n",
        "\n",
        "print(...) — display final test accuracy.\n",
        "\n"
      ],
      "metadata": {
        "id": "8FvOfbxNPs4j"
      }
    },
    {
      "cell_type": "code",
      "source": [
        "sample_index = 0\n",
        "sample_image = x_test[sample_index]\n",
        "pred_probs = model.predict(sample_image.reshape(1,28,28,1))\n",
        "pred_label = np.argmax(pred_probs, axis=1)[0]\n",
        "true_label = np.argmax(y_test[sample_index])\n",
        "print(\"Predicted:\", pred_label, \"True:\", true_label)\n",
        "plt.imshow(sample_image.reshape(28,28), cmap='gray')\n",
        "plt.title(f\"Predicted: {pred_label}  True: {true_label}\")\n",
        "plt.axis('off')\n",
        "plt.show()\n"
      ],
      "metadata": {
        "id": "eGU6F0eQPyNM",
        "outputId": "c94e1fd0-ce99-425c-e58e-e14ba4817c57",
        "colab": {
          "base_uri": "https://localhost:8080/",
          "height": 464
        }
      },
      "execution_count": 10,
      "outputs": [
        {
          "output_type": "stream",
          "name": "stdout",
          "text": [
            "\u001b[1m1/1\u001b[0m \u001b[32m━━━━━━━━━━━━━━━━━━━━\u001b[0m\u001b[37m\u001b[0m \u001b[1m0s\u001b[0m 97ms/step\n",
            "Predicted: 7 True: 7\n"
          ]
        },
        {
          "output_type": "display_data",
          "data": {
            "text/plain": [
              "<Figure size 640x480 with 1 Axes>"
            ],
            "image/png": "[encoded data removed]"
          },
          "metadata": {}
        }
      ]
    },
    {
      "cell_type": "markdown",
      "source": [
        "sample_index = 0 — pick the first test sample.\n",
        "\n",
        "sample_image = x_test[sample_index] — extract image tensor.\n",
        "\n",
        "model.predict(...) — predict probabilities for the single image. We reshape to include batch dimension (1,28,28,1).\n",
        "\n",
        "np.argmax(pred_probs, axis=1)[0] — pick the label with highest probability.\n",
        "\n",
        "np.argmax(y_test[sample_index]) — get true one-hot label's index.\n",
        "\n",
        "Print and plot to visually confirm prediction."
      ],
      "metadata": {
        "id": "1qq68uyBP6T3"
      }
    },
    {
      "cell_type": "code",
      "source": [
        "model.save('mnist_cnn.h5')  # Keras model file that can be loaded later\n"
      ],
      "metadata": {
        "id": "KqtGLzK7P7Hf",
        "outputId": "6d7fc38a-fd14-4ef3-dcfa-857c0c5119a7",
        "colab": {
          "base_uri": "https://localhost:8080/"
        }
      },
      "execution_count": 11,
      "outputs": [
        {
          "output_type": "stream",
          "name": "stderr",
          "text": [
            "WARNING:absl:You are saving your model as an HDF5 file via `model.save()` or `keras.saving.save_model(model)`. This file format is considered legacy. We recommend using instead the native Keras format, e.g. `model.save('my_model.keras')` or `keras.saving.save_model(model, 'my_model.keras')`. \n"
          ]
        }
      ]
    },
    {
      "cell_type": "markdown",
      "source": [
        "model.save('mnist_cnn.h5') — writes the model architecture, weights, and optimizer state to a file called mnist_cnn.h5. You can download this file and attach to GitHub if needed."
      ],
      "metadata": {
        "id": "JmKR6z2wQAA_"
      }
    },
    {
      "cell_type": "code",
      "source": [
        "import pandas as pd\n",
        "preds = model.predict(x_test[:100])\n",
        "pred_labels = np.argmax(preds, axis=1)\n",
        "df = pd.DataFrame({'index': np.arange(100), 'predicted': pred_labels})\n",
        "df.to_csv('predictions_sample100.csv', index=False)\n",
        "print(\"Saved predictions_sample100.csv\")\n"
      ],
      "metadata": {
        "id": "MDwpA2dfQDHe",
        "outputId": "bc61a3e5-9b97-4ade-d2ff-e4973df3cab7",
        "colab": {
          "base_uri": "https://localhost:8080/"
        }
      },
      "execution_count": 12,
      "outputs": [
        {
          "output_type": "stream",
          "name": "stdout",
          "text": [
            "\u001b[1m4/4\u001b[0m \u001b[32m━━━━━━━━━━━━━━━━━━━━\u001b[0m\u001b[37m\u001b[0m \u001b[1m0s\u001b[0m 12ms/step\n",
            "Saved predictions_sample100.csv\n"
          ]
        }
      ]
    },
    {
      "cell_type": "markdown",
      "source": [
        "pandas used for easy CSV export.\n",
        "\n",
        "Predict first 100 test images and write results into CSV for submission if required.\n",
        "\n"
      ],
      "metadata": {
        "id": "6soTcFK8QNQM"
      }
    },
    {
      "cell_type": "code",
      "source": [],
      "metadata": {
        "id": "nrYZKBgiQP2P"
      },
      "execution_count": null,
      "outputs": []
    },
    {
      "cell_type": "markdown",
      "source": [],
      "metadata": {
        "id": "85HQsybqNQfz"
      }
    }
  ]
}